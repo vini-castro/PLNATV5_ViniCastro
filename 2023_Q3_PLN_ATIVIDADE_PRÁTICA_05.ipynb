{
  "nbformat": 4,
  "nbformat_minor": 0,
  "metadata": {
    "colab": {
      "provenance": [],
      "include_colab_link": true
    },
    "kernelspec": {
      "name": "python3",
      "display_name": "Python 3"
    }
  },
  "cells": [
    {
      "cell_type": "markdown",
      "metadata": {
        "id": "view-in-github",
        "colab_type": "text"
      },
      "source": [
        "<a href=\"https://colab.research.google.com/github/vini-castro/PLNATV5_ViniCastro/blob/main/2023_Q3_PLN_ATIVIDADE_PR%C3%81TICA_05.ipynb\" target=\"_parent\"><img src=\"https://colab.research.google.com/assets/colab-badge.svg\" alt=\"Open In Colab\"/></a>"
      ]
    },
    {
      "cell_type": "markdown",
      "metadata": {
        "id": "Y6QILOdpOjwv"
      },
      "source": [
        "# **Processamento de Linguagem Natural [2023.Q3]**\n",
        "Prof. Alexandre Donizeti Alves"
      ]
    },
    {
      "cell_type": "markdown",
      "metadata": {
        "id": "8m67OOx9MX_3"
      },
      "source": [
        "### **ATIVIDADE PRÁTICA 05 [LangChain + Grandes Modelos de Linguagem + API]**\n"
      ]
    },
    {
      "cell_type": "markdown",
      "metadata": {
        "id": "5Gk0nHKabBT-"
      },
      "source": [
        "A **ATIVIDADE PRÁTICA 05** deve ser feita utilizando o **Google Colab** com uma conta sua vinculada ao Gmail. O link do seu notebook, armazenado no Google Drive, além do link de um repositório no GitHub e os principais resultados da atividade, devem ser enviados usando o seguinte formulário:\n",
        "\n",
        "> https://forms.gle/C1oUi1FKTZ4W9fNdA\n",
        "\n",
        "\n",
        "**IMPORTANTE**: A submissão deve ser feita até o dia **10/12 (domingo)** APENAS POR UM INTEGRANTE DA EQUIPE, até às 23h59. Por favor, lembre-se de dar permissão de ACESSO IRRESTRITO para o professor da disciplina de PLN."
      ]
    },
    {
      "cell_type": "markdown",
      "metadata": {
        "id": "D7hJlilKM485"
      },
      "source": [
        "### **EQUIPE**\n",
        "\n",
        "---"
      ]
    },
    {
      "cell_type": "markdown",
      "source": [
        "**POR FAVOR, PREENCHER OS INTEGRANDES DA SUA EQUIPE:**\n",
        "\n",
        "\n",
        "**Integrante 01:**\n",
        "\n",
        "`Por favor, informe o seu nome completo e RA:`Vinicius Peloggia de Castro, 11201811430\n",
        "\n",
        "**Integrante 02:**\n",
        "\n",
        "`Por favor, informe o seu nome completo e RA:`\n",
        "\n",
        "**Integrante 03:**\n",
        "\n",
        "`Por favor, informe o seu nome completo e RA:`"
      ],
      "metadata": {
        "id": "tnIArN0QY-Ek"
      }
    },
    {
      "cell_type": "markdown",
      "source": [
        "### **GRANDE MODELO DE LINGUAGEM (*Large Language Model - LLM*)**\n",
        "\n",
        "---"
      ],
      "metadata": {
        "id": "VbYD2mw8y4CN"
      }
    },
    {
      "cell_type": "markdown",
      "source": [
        "Cada equipe deve selecionar um Grande Modelo de Linguagem (*Large Language Model - LMM*). Preferencialmente, usar um modelo gratuito. Cada modelo pode ser escolhido por até 4 equipes.\n",
        "\n",
        ">\n",
        "\n",
        "Uma lista de LLMs está disponível em:\n",
        "\n",
        "> https://integrations.langchain.com/llms\n",
        "> https://python.langchain.com/docs/integrations/llms/"
      ],
      "metadata": {
        "id": "_UlblxFxzDV-"
      }
    },
    {
      "cell_type": "markdown",
      "source": [
        "**Modelos da Hugging Face:**\n",
        "\n",
        "* Mistral Base: modelo promissor.\n",
        "\n",
        "> https://huggingface.co/mistralai/Mistral-7B-Instruct-v0.1\n",
        "\n",
        "* Mistral Quantizado: mais leve. Pode ser um pouco mais difícil de configurar, mas deve ocupar menos memória.\n",
        "\n",
        "> https://huggingface.co/TheBloke/Mistral-7B-Instruct-v0.1-GGUF\n",
        "\n",
        "* Mistral Lite da Amazon: pode ter desempenho melhor.\n",
        "\n",
        "> https://huggingface.co/amazon/MistralLite\n",
        "\n",
        "* Llama 2 7B: modelo da Meta melhorado.\n",
        "\n",
        "> https://huggingface.co/meta-llama/Llama-2-7b-chat-hf\n",
        "\n",
        "* Llama 2 7b 32k: contexto maior pelo mesmo tamanho.\n",
        "\n",
        "> https://huggingface.co/togethercomputer/Llama-2-7B-32K-Instruct\n",
        "\n",
        "* Galactica: para artigos científicos\n",
        "\n",
        "> https://huggingface.co/facebook/galactica-6.7b\n",
        "\n",
        "* Alpaca: alternativo ao Llama\n",
        "\n",
        "> https://huggingface.co/chavinlo/alpaca-native\n",
        "\n",
        "> https://huggingface.co/spaces/tloen/alpaca-lora"
      ],
      "metadata": {
        "id": "GVpiVhzn3QqE"
      }
    },
    {
      "cell_type": "markdown",
      "source": [
        "**Lista de Modelos Interessantes:**\n",
        "\n",
        "> https://www.kdnuggets.com/2023/04/8-opensource-alternative-chatgpt-bard.html\n",
        "\n",
        "* Vicuna:\n",
        "> https://huggingface.co/lmsys/vicuna-7b-v1.5-16k\n",
        "\n",
        "* Openchat kit:\n",
        "> https://huggingface.co/togethercomputer/GPT-NeoXT-Chat-Base-20B\n",
        "\n",
        "* Meta OPT:\n",
        "> https://huggingface.co/facebook/opt-1.3b\n",
        "\n",
        "* Google Flan:\n",
        "> https://huggingface.co/google/flan-t5-base"
      ],
      "metadata": {
        "id": "WRuAiSr05Ayt"
      }
    },
    {
      "cell_type": "markdown",
      "source": [
        "**APIs:**\n",
        "\n",
        "* GPT4ALL: tenta ser um chatGPT aberto\n",
        "> https://python.langchain.com/docs/integrations/llms/gpt4all\n",
        "\n",
        "* YandexGPT: da empresa russa que criou um modelo de *Machine Learning* clássico muito bom, o CatBoost.\n",
        "> https://python.langchain.com/docs/integrations/llms/yandex\n",
        "\n",
        "* Anthropic: empresa forte concorrente da OpenAi.\n",
        "> https://python.langchain.com/docs/integrations/chat/anthropic\n",
        "\n",
        "* Gorilla: pipeline para geração de código\n",
        " > https://www.kdnuggets.com/2023/06/meet-gorilla-uc-berkeley-microsoft-apiaugmented-llm-outperforms-gpt4-chatgpt-claude.html"
      ],
      "metadata": {
        "id": "5Q3mhqda5WP1"
      }
    },
    {
      "cell_type": "markdown",
      "source": [
        "**IMPORTANTE**: todo esse levantamento e comentários foram feitos pelo aluno  **Bruno Sanches Rodrigues**."
      ],
      "metadata": {
        "id": "DO6XMjHx58u9"
      }
    },
    {
      "cell_type": "markdown",
      "source": [
        "Por favor, informe os dados do LLM selecionada:\n",
        "\n",
        ">\n",
        "\n",
        "\n",
        "**LLM**: Cohere\n",
        "\n",
        ">\n",
        "\n",
        "**Link para a documentação oficial**: https://python.langchain.com/docs/integrations/llms/cohere\n",
        "\n",
        ">\n",
        "\n",
        "\n",
        "**Site oficial (GitHub)**: https://github.com/cohere-ai"
      ],
      "metadata": {
        "id": "a6AkE6iW0c3o"
      }
    },
    {
      "cell_type": "markdown",
      "source": [
        "**IMPORTANTE**: não pode ser o modelo da `OpenAI`."
      ],
      "metadata": {
        "id": "A2oo8GtK0xSO"
      }
    },
    {
      "cell_type": "markdown",
      "source": [
        "### **API**\n",
        "---"
      ],
      "metadata": {
        "id": "6yExhaebs-nD"
      }
    },
    {
      "cell_type": "markdown",
      "source": [
        "Por favor, informe os dados da API selecionada:\n",
        "\n",
        "**API**: Spotify\n",
        "\n",
        "**Site oficial**: https://open.spotify.com/intl-pt\n",
        "\n",
        "**Link para a documentação oficial**: https://developer.spotify.com/documentation/web-api\n",
        "\n",
        "\n",
        "\n",
        "\n"
      ],
      "metadata": {
        "id": "DjJM_qhEZRy6"
      }
    },
    {
      "cell_type": "markdown",
      "source": [
        "**IMPORTANTE**: não é necessário usar a mesma **API** da `ATIVIDADE PRÁTICA 03`. Cada **API** pode ser usada por até 4 equipes."
      ],
      "metadata": {
        "id": "bTODq98Myt_u"
      }
    },
    {
      "cell_type": "markdown",
      "metadata": {
        "id": "EtjgWQRzNphL"
      },
      "source": [
        "### **DESCRIÇÃO**\n",
        "---"
      ]
    },
    {
      "cell_type": "markdown",
      "source": [
        "Implementar um `notebook` no `Google Colab` que faça uso do framework **`LangChain`** (obrigatório) e de um **LLM** aplicando, no mínimo, uma técnica de PLN. A técnica pode ser aplicada em qualquer córpus. Também é obrigatório usar uma **API** da `ATIVIDADE PRÁTICA 03`. A **API** pode ser usada tanto para obter os dados quanto para disponibilizar os resultados.\n",
        "\n",
        "O **LLM** e a **API** selecionados devem ser informados na seguinte planilha:\n",
        "\n",
        "> https://docs.google.com/spreadsheets/d/1cOL7zVNffqmliuv23zFm1UJjhEXTdp1Zm5EyAJmhiKg/edit?usp=sharing\n",
        "\n",
        ">\n",
        "As seguintes técnicas de PLN podem ser usadas:\n",
        "\n",
        "*   Correção Gramatical\n",
        "*   Classificação de Textos\n",
        "*   Análise de Sentimentos\n",
        "*   Detecção de Emoções\n",
        "*   Extração de Palavras-chave\n",
        "*   Tradução de Textos\n",
        "*   Sumarização de Textos\n",
        "*   Similaridade de Textos\n",
        "*   Reconhecimento de Entidades Nomeadas\n",
        "*   Sistemas de Perguntas e Respostas\n",
        "\n",
        ">\n",
        "\n",
        "\n",
        "\n",
        "\n",
        "**Lista de APIs:**\n",
        "\n",
        "\n",
        "* YouTube\n",
        "* LinkedIn\n",
        "* Twitter (X)\n",
        "* Facebook\n",
        "* Instagram\n",
        "* Medium\n",
        "* Reddit\n",
        "* TikTok\n",
        "* GitHub\n",
        "* Pinterest\n",
        "* Telegram\n",
        "* Dados financeiros\n",
        "* Notícias\n",
        "* Mercado de Ações\n",
        "* Dados financeiros\n",
        "* SMS\n",
        "* OpenAlex\n",
        "* Whisper (OpenAI)\n",
        "* Discord\n",
        "* Slack\n",
        "* Chuck Norris Jokes\n",
        "* Wikipedia\n",
        "* Last.fm\n",
        "* New York Times\n",
        "* Nasdaq Data Link\n",
        "* Yahoo! Finance\n",
        "* Twilio SendGrid Mail Send\n",
        "* Spotify\n",
        "* Awesome API\n",
        "* Google Books API\n",
        "* Mercado Livre API\n",
        "\n",
        ">\n",
        "\n",
        "**PLANILHA DA ATIVIDADE PRÁTICA 03:**\n",
        "\n",
        "> https://docs.google.com/spreadsheets/d/1-Q1szJ3UmoE2_3LtcRQyqid5fPIcnpsR3XAPnoxLj2o/edit?usp=sharing\n",
        "\n",
        "\n",
        "**IMPORTANTE:** É obrigatório usar o e-mail da UFABC.\n"
      ],
      "metadata": {
        "id": "fXTwkiiGs2BV"
      }
    },
    {
      "cell_type": "markdown",
      "source": [
        "### **CRITÉRIOS DE AVALIAÇÃO**\n",
        "---\n"
      ],
      "metadata": {
        "id": "gWsBYQNtxmum"
      }
    },
    {
      "cell_type": "markdown",
      "source": [
        "Serão considerados como critérios de avaliação os segunintes pontos:\n",
        "\n",
        "* Uso do framework **`LangChain`**.\n",
        "\n",
        "* Escolha e uso de um **LLM**.\n",
        "\n",
        "* Escolha e uso de uma **API**\n",
        "\n",
        "* Criatividade no uso do framework **`LangChain`** em conjunto com o **LLM** e a **API**.\n",
        "\n",
        "\n"
      ],
      "metadata": {
        "id": "5iHdx4BXYruQ"
      }
    },
    {
      "cell_type": "markdown",
      "source": [
        "**IMPORTANTE**: todo o código do notebook deve ser executado. Código sem execução não será considerado."
      ],
      "metadata": {
        "id": "LhwdrMp123Xx"
      }
    },
    {
      "cell_type": "markdown",
      "source": [
        "### **IMPLEMENTAÇÃO**\n",
        "---"
      ],
      "metadata": {
        "id": "nw09lujGvfjc"
      }
    },
    {
      "cell_type": "code",
      "source": [
        "!pip install requests -q\n",
        "!pip install langchain -q\n",
        "!pip install cohere -q"
      ],
      "metadata": {
        "id": "RyUailD5vi9E"
      },
      "execution_count": 65,
      "outputs": []
    },
    {
      "cell_type": "code",
      "source": [
        "client_id = ''\n",
        "client_secret = ''\n",
        "cohere_api_key = ''"
      ],
      "metadata": {
        "id": "csYSSYN51u97"
      },
      "execution_count": 39,
      "outputs": []
    },
    {
      "cell_type": "code",
      "source": [
        "import requests\n",
        "import base64\n",
        "\n",
        "base64_credentials = base64.b64encode(f'{client_id}:{client_secret}'.encode('utf-8')).decode('utf-8')\n",
        "\n",
        "token_url = 'https://accounts.spotify.com/api/token'\n",
        "\n",
        "headers = {\n",
        "    'Authorization': f'Basic {base64_credentials}'\n",
        "}\n",
        "\n",
        "data = {\n",
        "    'grant_type': 'client_credentials'\n",
        "}\n",
        "\n",
        "response = requests.post(token_url, headers=headers, data=data)\n",
        "\n",
        "if response.status_code == 200:\n",
        "\n",
        "    token_data = response.json()\n",
        "    access_token = token_data.get('access_token')\n",
        "else:\n",
        "    print(f'Erro {response.status_code}: {response.text}')\n"
      ],
      "metadata": {
        "id": "Y0qkdmsqoX4F"
      },
      "execution_count": 40,
      "outputs": []
    },
    {
      "cell_type": "markdown",
      "source": [
        "Request para a API do spotify, foi buscado nos audiobooks, descrições para o tema abordado. É muito dificil encontrar textos no spotify, já que se trata de um software de música"
      ],
      "metadata": {
        "id": "eotGhLOBehFE"
      }
    },
    {
      "cell_type": "code",
      "source": [
        "import requests\n",
        "import json\n",
        "import re\n",
        "\n",
        "pattern = re.compile(r'<.*?>')\n",
        "\n",
        "token = access_token\n",
        "\n",
        "track_id = '0D5wENdkdwbqlrHoaJ9g29'\n",
        "url = f'https://api.spotify.com/v1/chapters/{track_id}'\n",
        "\n",
        "headers = {\n",
        "    'Authorization': f'Bearer {token}'\n",
        "}\n",
        "\n",
        "response = requests.get(url, headers=headers)\n",
        "\n",
        "if response.status_code == 200:\n",
        "    track_data = response.json()\n",
        "    description_value = track_data['audiobook']['description']\n",
        "    result = re.sub(pattern, '', description_value)\n",
        "    print(result)\n",
        "\n",
        "else:\n",
        "    print(f'Erro {response.status_code}: {response.text}')\n"
      ],
      "metadata": {
        "colab": {
          "base_uri": "https://localhost:8080/"
        },
        "id": "sA6rk24R1Tcg",
        "outputId": "62f35943-c1e5-4199-9bc8-2c9bab0d2da8"
      },
      "execution_count": 41,
      "outputs": [
        {
          "output_type": "stream",
          "name": "stdout",
          "text": [
            "Author(s): Cixin Liu\n",
            "Narrator(s): Luke Daniels\n",
            "\n",
            "The Three-Body Problem is the first chance for English-speaking readers to experience the Hugo Award-winning phenomenon from China's most beloved science fiction author, Liu Cixin.Set against the backdrop of China's Cultural Revolution, a secret military project sends signals into space to establish contact with aliens. An alien civilization on the brink of destruction captures the signal and plans to invade Earth. Meanwhile, on Earth, different camps start forming, planning to either welcome the superior beings and help them take over a world seen as corrupt, or to fight against the invasion. The result is a science fiction masterpiece of enormous scope and vision.A Macmillan Audio production.\n"
          ]
        }
      ]
    },
    {
      "cell_type": "markdown",
      "source": [
        "Aqui está sendo usando o Cohere pelo framework do langchain."
      ],
      "metadata": {
        "id": "qjnBJXQZevtu"
      }
    },
    {
      "cell_type": "markdown",
      "source": [
        "**TRADUÇÃO**"
      ],
      "metadata": {
        "id": "Nt5vs9JfhRiY"
      }
    },
    {
      "cell_type": "code",
      "source": [
        "from langchain.chains import LLMChain\n",
        "from langchain.llms import Cohere\n",
        "from langchain.prompts import PromptTemplate\n",
        "from getpass import getpass\n",
        "\n",
        "template = \"\"\"Pergunta: {pergunta}\n",
        "\n",
        "Resposta: Vamos pensar etapa por etapa.\"\"\"\n",
        "\n",
        "prompt = PromptTemplate(template=template, input_variables=[\"question\"])\n",
        "\n",
        "llm = Cohere(cohere_api_key=cohere_api_key)\n",
        "\n",
        "llm_chain = LLMChain(prompt=prompt, llm=llm)\n",
        "\n",
        "question = f\"Traduza para portugues o seguinte texto: {result}\"\n",
        "\n",
        "resposta = llm_chain.run(question)\n",
        "print(resposta)"
      ],
      "metadata": {
        "colab": {
          "base_uri": "https://localhost:8080/"
        },
        "id": "JrNktp7T5B_a",
        "outputId": "ab60abc5-df86-4dc8-fe0c-3263d3154048"
      },
      "execution_count": 68,
      "outputs": [
        {
          "output_type": "stream",
          "name": "stdout",
          "text": [
            " Autor(es): Cixin Liu\n",
            "Narrador(es): Luke Daniels\n",
            "\n",
            "O problema dos três corpos é o primeiro livro de sci-fi do Liu Cixin, que ganhou os Hugo Awards, que está disponível para os leitores de inglês.\n",
            "\n",
            "Em plena Revolução Cultural Chinês, um projeto secreto da milícia envia sinais para o espaço para estabelecer contato com extraterrestres. Uma civilização alienígena em declínio captura esse sinal e planeja invadir a Terra. Em meio a isso, na Terra, as poucas pessoas começam a formar diversas falças, planos de receber os seres superiores e ajudá-los a tomar o controle de uma terra que se ve mais correta, ou seja, lutar contra a invasão. Com estes elementos, o Liu Cixin conhece-nos com uma obra maestria em sci-fi de grande amplitude e visão.\n"
          ]
        }
      ]
    },
    {
      "cell_type": "markdown",
      "source": [
        "**ANALISE DE SENTIMENTOS**"
      ],
      "metadata": {
        "id": "B3Aw1X79hUOL"
      }
    },
    {
      "cell_type": "code",
      "source": [
        "from langchain.chains import LLMChain\n",
        "from langchain.llms import Cohere\n",
        "from langchain.prompts import PromptTemplate\n",
        "from getpass import getpass\n",
        "\n",
        "template = \"\"\"Pergunta: {pergunta}\n",
        "\n",
        "Resposta: Vamos pensar etapa por etapa.\"\"\"\n",
        "\n",
        "prompt = PromptTemplate(template=template, input_variables=[\"question\"])\n",
        "\n",
        "llm = Cohere(cohere_api_key=cohere_api_key)\n",
        "\n",
        "llm_chain = LLMChain(prompt=prompt, llm=llm)\n",
        "\n",
        "question = f\"Faça uma análise de sentimentos do seguinte texto em português: {result}\"\n",
        "\n",
        "resposta = llm_chain.run(question)\n",
        "print(resposta)"
      ],
      "metadata": {
        "colab": {
          "base_uri": "https://localhost:8080/"
        },
        "id": "GBRC2BaEcBer",
        "outputId": "5c7e7021-5623-42e9-a9ee-57ff6f45f85e"
      },
      "execution_count": 69,
      "outputs": [
        {
          "output_type": "stream",
          "name": "stdout",
          "text": [
            " Em suma, o texto demonstra sentimentos positivos sobre a obra \"O problema dos três corpos\" de Liu Cixin, por meio do seu conceito amplo e visão, mostrando a capacidade do autor para trazer consigo um público especial e receber prémio Hugo. No entanto, a ambiance atual, que reflete a Revolução Cultural Chinês, mostra um pós-apocalíptico mundo onde as condições do planeta são ameaçadas pela chegada de uma civilização alienígena, que poderia se vencer. No momento, as diferentes faixas de opinião sobre a chegada dos seres superiores são expostas, com alguns empoeirados a receber eles, enquanto outros resistem a invasão.\n",
            "\n",
            "No início do texto, a afirmação que o livro é a primeira chance para os leitores anglófonos para se aventurar na obra de Liu C\n"
          ]
        }
      ]
    },
    {
      "cell_type": "markdown",
      "source": [
        "**DETECÇÃO DE EMOÇÕES**"
      ],
      "metadata": {
        "id": "z-2JUxR8hc-1"
      }
    },
    {
      "cell_type": "code",
      "source": [
        "from langchain.chains import LLMChain\n",
        "from langchain.llms import Cohere\n",
        "from langchain.prompts import PromptTemplate\n",
        "from getpass import getpass\n",
        "\n",
        "template = \"\"\"Pergunta: {pergunta}\n",
        "\n",
        "Resposta: Vamos pensar etapa por etapa.\"\"\"\n",
        "\n",
        "prompt = PromptTemplate(template=template, input_variables=[\"question\"])\n",
        "\n",
        "llm = Cohere(cohere_api_key=cohere_api_key)\n",
        "\n",
        "llm_chain = LLMChain(prompt=prompt, llm=llm)\n",
        "\n",
        "question = f\"Realize uma detecção de emoções no seguinte texto, não precisa explicar o texto, apenas mostre qual a emoção: {result}\"\n",
        "\n",
        "resposta = llm_chain.run(question)\n",
        "print(resposta)"
      ],
      "metadata": {
        "colab": {
          "base_uri": "https://localhost:8080/"
        },
        "id": "dYyMfBu1dgCz",
        "outputId": "ec65bb3c-6271-42c6-f478-149f39de9422"
      },
      "execution_count": 70,
      "outputs": [
        {
          "output_type": "stream",
          "name": "stdout",
          "text": [
            " Em primeiro momento, a paixão pelos estudos e pelo conhecimento é evidente na narrativa. A identificação com os alienígenas através de seus sinais envolve um profundo interesse em estrangeiros e em conhecer outras civilizações.\n",
            "\n",
            "Em segundo momento, a emoção de estranheza e insegurança aparece quando os aliados estão na hora de interferir com a destruição do seu próprio planeta. É possível que a narrativa expressasse uma sua insegurança sobre a situação, mas tem a intuição de que os aliados podem ter algo em comum com os humanos.\n",
            "\n",
            "Em terceiro momento, a emoção de mistura de medo e excitação é evidenciada quando os humanos empreendem-se a planear combate para o invasor. Algumas pessoas estão ansiosas para um combate que pode exacerbar a sua conquista, mas\n"
          ]
        }
      ]
    },
    {
      "cell_type": "markdown",
      "source": [
        "**PALAVRAS-CHAVE**"
      ],
      "metadata": {
        "id": "bzxl1D2Ahf_A"
      }
    },
    {
      "cell_type": "code",
      "source": [
        "from langchain.chains import LLMChain\n",
        "from langchain.llms import Cohere\n",
        "from langchain.prompts import PromptTemplate\n",
        "from getpass import getpass\n",
        "\n",
        "template = \"\"\"Pergunta: {pergunta}\n",
        "\n",
        "Resposta: Vamos pensar etapa por etapa.\"\"\"\n",
        "\n",
        "prompt = PromptTemplate(template=template, input_variables=[\"question\"])\n",
        "\n",
        "llm = Cohere(cohere_api_key=cohere_api_key)\n",
        "\n",
        "llm_chain = LLMChain(prompt=prompt, llm=llm)\n",
        "\n",
        "question = f\"Faça um extração de palavras chaves do seguinte texto: {result}\"\n",
        "\n",
        "resposta = llm_chain.run(question)\n",
        "print(resposta)"
      ],
      "metadata": {
        "colab": {
          "base_uri": "https://localhost:8080/"
        },
        "id": "5k5BrGO5dmKS",
        "outputId": "40f0861d-bf97-4cf1-924a-0d74735825f2"
      },
      "execution_count": 71,
      "outputs": [
        {
          "output_type": "stream",
          "name": "stdout",
          "text": [
            " 1. Science fiction: O título do seu livro é \"The Three-Body Problem\", e seu conteúdo foi narrado por Luke Daniels. Esse é um clássico do género de literatura ficção científica, que foi originalmente escrito por Liu Cixin.\n",
            "2. Hugo Award: Esse é um prêmio que seria dado a Liu Cixin, por ser considerado o autor da fenoména científicamente-ficção da China.\n",
            "3. China: O livro tem a backdrop do Cultural Revolution de China, e sua história se passa principalmente na China.\n",
            "4. Aliens:Um dos personagens extraterrestres captura um sinal que foi enviado do terceiro mundo, e com a ajuda deste seus amigos vão invadir o planeta Earth.\n",
            "5. Invasion: Na Terra, as pessoas começam a organizar-se para o inimigo extraterrestre, alguns acreditam que os seus mais altos interesses\n"
          ]
        }
      ]
    },
    {
      "cell_type": "markdown",
      "source": [
        "**SUMARIZAÇÃO**"
      ],
      "metadata": {
        "id": "QjFTpGwghjXs"
      }
    },
    {
      "cell_type": "code",
      "source": [
        "from langchain.chains import LLMChain\n",
        "from langchain.llms import Cohere\n",
        "from langchain.prompts import PromptTemplate\n",
        "from getpass import getpass\n",
        "\n",
        "template = \"\"\"Pergunta: {pergunta}\n",
        "\n",
        "Resposta: Vamos pensar etapa por etapa.\"\"\"\n",
        "\n",
        "prompt = PromptTemplate(template=template, input_variables=[\"question\"])\n",
        "\n",
        "llm = Cohere(cohere_api_key=cohere_api_key)\n",
        "\n",
        "llm_chain = LLMChain(prompt=prompt, llm=llm)\n",
        "\n",
        "question = f\"Resuma o seguinte texto, usando poucas palavras {result}\"\n",
        "\n",
        "resposta = llm_chain.run(question)\n",
        "print(resposta)"
      ],
      "metadata": {
        "colab": {
          "base_uri": "https://localhost:8080/"
        },
        "id": "f99FeeYUeP7t",
        "outputId": "725831b6-2ae2-4a28-c91d-6eaa36ff4028"
      },
      "execution_count": 73,
      "outputs": [
        {
          "output_type": "stream",
          "name": "stdout",
          "text": [
            " The Three-Body Problem by Cixin Liu is an award-winning science fiction story about a secret Chinese military project trying to make contact with aliens. An alien civilization, on the verge of destruction, captures the signal and intends to invade Earth. The story evolves between the two planets, Earth and the alien civilization, as groups within Earth begin to form, debating whether to welcome the newcomers or fight against the invasion. \n",
            "\n",
            "Would you like me to help you with another summary? \n"
          ]
        }
      ]
    },
    {
      "cell_type": "markdown",
      "source": [
        "**PERGUNTAS E RESPOSTAS, EM AMBAS AS LINGUAS**"
      ],
      "metadata": {
        "id": "j9G-3vxnhmqd"
      }
    },
    {
      "cell_type": "code",
      "source": [
        "from langchain.chains import LLMChain\n",
        "from langchain.llms import Cohere\n",
        "from langchain.prompts import PromptTemplate\n",
        "from getpass import getpass\n",
        "\n",
        "template = \"\"\"Pergunta: {pergunta}\n",
        "\n",
        "Resposta: Vamos pensar etapa por etapa.\"\"\"\n",
        "\n",
        "prompt = PromptTemplate(template=template, input_variables=[\"question\"])\n",
        "\n",
        "llm = Cohere(cohere_api_key=cohere_api_key)\n",
        "\n",
        "llm_chain = LLMChain(prompt=prompt, llm=llm)\n",
        "\n",
        "question = f\"Utilizando o seguinte texto como referência: {result}, responda a seguinte pergunta: Em que período da China se passa esse texto?\"\n",
        "\n",
        "resposta = llm_chain.run(question)\n",
        "print(resposta)"
      ],
      "metadata": {
        "colab": {
          "base_uri": "https://localhost:8080/"
        },
        "id": "n116tz87fouE",
        "outputId": "f6e39044-dd56-4ed9-989f-3c08855c063b"
      },
      "execution_count": 74,
      "outputs": [
        {
          "output_type": "stream",
          "name": "stdout",
          "text": [
            " The text is set during the Cultural Revolution in China. If you are not familiar with this period, here is a brief summary to help you understand the context: \n",
            "\n",
            "The Cultural Revolution was a period of time in China from 1966 to 1976 where the country underwent a massive upheaval led by Chairman Mao Zedong. During this time, there were mass campaigns to purge any elements of Chinese culture that were perceived as capitalist or traditional, and to establish Maoist ideology as the dominant ideology in China. The country underwent drastic changes, and there was a lot of violence and suffering as millions of people were persecuted and killed. \n",
            "\n",
            "Now, considering the context, the text is probably referring to this event in the following sentence: \n",
            "\n",
            "“Set against the backdrop of China’s Cultural Revolution, a secret military project sends signals into space to establish contact with aliens.” \n",
            "\n",
            "Would you like me to elaborate on any of the information provided? \n"
          ]
        }
      ]
    },
    {
      "cell_type": "code",
      "source": [
        "from langchain.chains import LLMChain\n",
        "from langchain.llms import Cohere\n",
        "from langchain.prompts import PromptTemplate\n",
        "from getpass import getpass\n",
        "\n",
        "template = \"\"\"Question: {question}\n",
        "\n",
        "Answer: Let's think step by step.\"\"\"\n",
        "\n",
        "prompt = PromptTemplate(template=template, input_variables=[\"question\"])\n",
        "\n",
        "llm = Cohere(cohere_api_key=cohere_api_key)\n",
        "\n",
        "llm_chain = LLMChain(prompt=prompt, llm=llm)\n",
        "\n",
        "question = f\"Using this text as a reference: {result}, answer the following question: In which age does this text take place?\"\n",
        "\n",
        "resposta = llm_chain.run(question)\n",
        "print(resposta)"
      ],
      "metadata": {
        "colab": {
          "base_uri": "https://localhost:8080/"
        },
        "id": "mSSzlP0QfpFI",
        "outputId": "d8290118-f8c9-4624-d7f7-51ceeb6769e0"
      },
      "execution_count": 75,
      "outputs": [
        {
          "output_type": "stream",
          "name": "stdout",
          "text": [
            " To answer this question, we should look for the relevant information in the passage. The important part for answering this question is: Set against the backdrop of China's Cultural Revolution, a secret military project sends signals into space to establish contact with aliens.\n",
            "Based on this, the final answer is China 's Cultural Revolution.\n"
          ]
        }
      ]
    },
    {
      "cell_type": "markdown",
      "source": [
        "Considerações finais:\n",
        "\n",
        "É possível observar que ele sempre dá uma resposta satisfatória, mas a compatibilidade com português não parece ser tão grande assim.\n",
        "\n",
        "É possível observar isso na resposta que ele deu em inglês, onde a pergunta foi feita em português\n",
        "\n",
        "E também, na comparação de respostas, a inglesa foi muito mais satisfatória."
      ],
      "metadata": {
        "id": "wBZCdww3gJRV"
      }
    }
  ]
}